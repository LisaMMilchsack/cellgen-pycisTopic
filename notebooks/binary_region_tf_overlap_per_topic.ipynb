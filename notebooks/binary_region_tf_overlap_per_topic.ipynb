{
 "cells": [
  {
   "cell_type": "code",
   "execution_count": 1,
   "metadata": {},
   "outputs": [
    {
     "name": "stderr",
     "output_type": "stream",
     "text": [
      "/staging/leuven/stg_00002/lcb/saibar/software/anaconda3/envs/pyCisTopic_env/lib/python3.7/site-packages/umap/__init__.py:9: UserWarning: Tensorflow not installed; ParametricUMAP will be unavailable\n",
      "  warn(\"Tensorflow not installed; ParametricUMAP will be unavailable\")\n",
      "/staging/leuven/stg_00002/lcb/saibar/software/anaconda3/envs/pyCisTopic_env/lib/python3.7/site-packages/sklearn/utils/deprecation.py:143: FutureWarning: The sklearn.manifold.t_sne module is  deprecated in version 0.22 and will be removed in version 0.24. The corresponding classes / functions should instead be imported from sklearn.manifold. Anything that cannot be imported from sklearn.manifold is now part of the private API.\n",
      "  warnings.warn(message, FutureWarning)\n"
     ]
    }
   ],
   "source": [
    "%matplotlib inline\n",
    "import os\n",
    "os.chdir(\"/ddn1/vol1/staging/leuven/stg_00002/lcb/nhecker/software/git/pycisTopic\")\n",
    "from pycisTopic.cisTopicClass import *\n",
    "from pycisTopic.qc import *\n",
    "from pycisTopic.LDAModels import *\n",
    "from pycisTopic.clustVis import *\n",
    "from pycisTopic.topicFiltering import *\n",
    "from pycisTopic.diffFeatures import *\n",
    "from pycisTopic.pseudobulkPeakCalling import *\n",
    "from pycisTopic.iterativePeakCalling import *\n",
    "from pycisTopic.topicBinarization import *\n",
    "from pycisTopic.SCopeLoomPy import *\n",
    "import os\n",
    "import pandas as pd\n",
    "os.chdir(\"/staging/leuven/stg_00002/lcb/cbravo/Multiomics_pipeline/example_files/Mult_GRN/from_loom/\")\n",
    "from export_to_loom import *"
   ]
  },
  {
   "cell_type": "code",
   "execution_count": 2,
   "metadata": {},
   "outputs": [],
   "source": [
    "# file paths\n",
    "path_rnaseq_loom = \"/staging/leuven/stg_00002/lcb/cbravo/Multiomics_pipeline/example_files/Mult_GRN/from_loom/ScoMAP_RNA_VE.loom\"\n",
    "path_atac_loom = \"/staging/leuven/stg_00002/lcb/cbravo/Multiomics_pipeline/example_files/Mult_GRN/from_loom/ScoMAP_ATAC_VE.loom\"\n",
    "path_tf_region_topic = \"/ddn1/vol1/staging/leuven/stg_00002/lcb/cbravo/Multiomics_pipeline/example_files/Mult_GRN/from_files/TF-region.tsv\"\n",
    "\n",
    "# output file\n",
    "path_outf = \"/ddn1/vol1/staging/leuven/stg_00002/lcb/nhecker/scenic2/filtered_TF-region.tsv\""
   ]
  },
  {
   "cell_type": "code",
   "execution_count": 3,
   "metadata": {},
   "outputs": [],
   "source": [
    "# parameters\n",
    "min_rna_count = 1 # min. count to consider TF expressed in cell\n",
    "min_cells = 10 # minimum number of cells with topic, reg. region and TF\n",
    "min_fraction_tf = 0.75 # min fraction of cells with expressed TF per topic and reg. region"
   ]
  },
  {
   "cell_type": "code",
   "execution_count": 4,
   "metadata": {},
   "outputs": [],
   "source": [
    "# get cell topic matrix\n",
    "# Read loom\n",
    "atac_loom = SCopeLoom.read_loom(path_atac_loom)\n",
    "mtx_atac = atac_loom.ex_mtx.T\n",
    "cell_topic_mat = mtx_atac[mtx_atac.index.str.contains('Topic')]"
   ]
  },
  {
   "cell_type": "code",
   "execution_count": 5,
   "metadata": {},
   "outputs": [],
   "source": [
    "# From the scRNA-seq loom file, get expression matrix\n",
    "# Read loom\n",
    "rna_loom = SCopeLoom.read_loom(path_rnaseq_loom)\n",
    "mtx_rna = rna_loom.ex_mtx.T"
   ]
  },
  {
   "cell_type": "code",
   "execution_count": 6,
   "metadata": {},
   "outputs": [],
   "source": [
    "# read TF region topic file\n",
    "df_tfreg = pd.read_csv(path_tf_region_topic, sep='\\t')"
   ]
  },
  {
   "cell_type": "markdown",
   "metadata": {},
   "source": [
    "### Binarize data and fraction of expressed TF per cell and topic "
   ]
  },
  {
   "cell_type": "code",
   "execution_count": 7,
   "metadata": {},
   "outputs": [],
   "source": [
    "# binarize topics per cell\n",
    "arr_ct = np.asarray(cell_topic_mat)\n",
    "l_norm = (arr_ct - np.min(arr_ct))/np.ptp(arr_ct)\n",
    "thr = threshold_otsu(l_norm, nbins=100)\n",
    "\n",
    "bin_cell_topic_mat = cell_topic_mat.copy()\n",
    "bin_cell_topic_mat[ bin_cell_topic_mat >= thr] = 1\n",
    "bin_cell_topic_mat[ bin_cell_topic_mat < thr] = 0"
   ]
  },
  {
   "cell_type": "code",
   "execution_count": 8,
   "metadata": {},
   "outputs": [],
   "source": [
    "# binarize RNA expression\n",
    "bin_mtx_rna = mtx_rna.copy()\n",
    "bin_mtx_rna[bin_mtx_rna >= min_rna_count] = 1\n",
    "bin_mtx_rna[bin_mtx_rna < min_rna_count] = 0"
   ]
  },
  {
   "cell_type": "code",
   "execution_count": 9,
   "metadata": {},
   "outputs": [],
   "source": [
    "# compute overlap stats returns panda DataFrame\n",
    "def get_topic_region_tf_fraction(tf_region_topic, binary_mtx_topic, binary_mtx_rna, topic_tag = \"Topic\"):\n",
    "    \n",
    "    # get shared cellIDs\n",
    "    rna_cellids = binary_mtx_rna.columns\n",
    "    topic_cellids = binary_mtx_topic.columns\n",
    "    shared_cellids = list(set(rna_cellids).intersection(set(topic_cellids)))\n",
    "    # subset topic matrix\n",
    "    tbinary_mtx_topic = binary_mtx_topic.loc[:,shared_cellids]\n",
    "\n",
    "    # initialize data frame\n",
    "    nentry = tf_region_topic.shape[0]\n",
    "    \n",
    "    arr_n_cellsnp = np.empty(nentry) \n",
    "    np.copyto(arr_n_cellsnp, np.nan)\n",
    "    arr_fraction_tf = np.empty(nentry) \n",
    "    np.copyto(arr_fraction_tf, np.nan)\n",
    "        \n",
    "    newdata = { 'fraction_tf' : arr_n_cellsnp, 'n_cells' : arr_n_cellsnp }\n",
    "    resdf = pd.DataFrame(data=newdata, index=tf_region_topic.index)\n",
    "    \n",
    "    # loop over entries, get fraction of cells with TF\n",
    "    for index in tf_region_topic.index:\n",
    "        \n",
    "        tf = tf_region_topic.loc[index, 'TF']\n",
    "        reg = tf_region_topic.loc[index, 'region']\n",
    "        topic = topic_tag + tf_region_topic.loc[index, 'topic']\n",
    "\n",
    "        # extract cells with topic\n",
    "        if topic in tbinary_mtx_topic.index and tf in binary_mtx_rna.index:\n",
    "            \n",
    "            cellids = tbinary_mtx_topic.loc[topic, (tbinary_mtx_topic.loc[topic,:] == 1) ].index\n",
    "            arr_rna = np.asarray(binary_mtx_rna.loc[tf, cellids])\n",
    "            \n",
    "            n_cells = len(arr_rna)\n",
    "            n_rna_cells = np.nan\n",
    "            fraction = np.nan\n",
    "\n",
    "            # count cells with TF for topic\n",
    "            if n_cells > 0:\n",
    "                n_rna_cells =  arr_rna.sum()\n",
    "                fraction = n_rna_cells / n_cells\n",
    "                \n",
    "                # add entries to data frame\n",
    "                resdf.loc[index, 'fraction_tf'] = fraction\n",
    "                resdf.loc[index, 'n_cells'] = n_cells\n",
    "            \n",
    "    return resdf"
   ]
  },
  {
   "cell_type": "code",
   "execution_count": 10,
   "metadata": {},
   "outputs": [],
   "source": [
    "# get fraction of TFs per Topic\n",
    "df_fraction_tf = get_topic_region_tf_fraction(df_tfreg, bin_cell_topic_mat, bin_mtx_rna)"
   ]
  },
  {
   "cell_type": "code",
   "execution_count": 11,
   "metadata": {},
   "outputs": [],
   "source": [
    "df_tfreg = pd.concat([df_tfreg, df_fraction_tf], axis=1)"
   ]
  },
  {
   "cell_type": "code",
   "execution_count": 12,
   "metadata": {},
   "outputs": [
    {
     "data": {
      "text/html": [
       "<div>\n",
       "<style scoped>\n",
       "    .dataframe tbody tr th:only-of-type {\n",
       "        vertical-align: middle;\n",
       "    }\n",
       "\n",
       "    .dataframe tbody tr th {\n",
       "        vertical-align: top;\n",
       "    }\n",
       "\n",
       "    .dataframe thead th {\n",
       "        text-align: right;\n",
       "    }\n",
       "</style>\n",
       "<table border=\"1\" class=\"dataframe\">\n",
       "  <thead>\n",
       "    <tr style=\"text-align: right;\">\n",
       "      <th></th>\n",
       "      <th>TF</th>\n",
       "      <th>region</th>\n",
       "      <th>topic</th>\n",
       "      <th>fraction_tf</th>\n",
       "      <th>n_cells</th>\n",
       "    </tr>\n",
       "  </thead>\n",
       "  <tbody>\n",
       "    <tr>\n",
       "      <th>6</th>\n",
       "      <td>hth</td>\n",
       "      <td>chr2L:13084310-13086017</td>\n",
       "      <td>14</td>\n",
       "      <td>1.000000</td>\n",
       "      <td>62.0</td>\n",
       "    </tr>\n",
       "    <tr>\n",
       "      <th>10</th>\n",
       "      <td>exd</td>\n",
       "      <td>chr2L:13084310-13086017</td>\n",
       "      <td>14</td>\n",
       "      <td>0.935484</td>\n",
       "      <td>62.0</td>\n",
       "    </tr>\n",
       "    <tr>\n",
       "      <th>251</th>\n",
       "      <td>jim</td>\n",
       "      <td>chr2L:7423403-7426242</td>\n",
       "      <td>27</td>\n",
       "      <td>0.944444</td>\n",
       "      <td>36.0</td>\n",
       "    </tr>\n",
       "    <tr>\n",
       "      <th>315</th>\n",
       "      <td>RpII215</td>\n",
       "      <td>chr2L:7423403-7426242</td>\n",
       "      <td>27</td>\n",
       "      <td>0.777778</td>\n",
       "      <td>36.0</td>\n",
       "    </tr>\n",
       "    <tr>\n",
       "      <th>334</th>\n",
       "      <td>gl</td>\n",
       "      <td>chr2L:7423403-7426242</td>\n",
       "      <td>12</td>\n",
       "      <td>0.982699</td>\n",
       "      <td>578.0</td>\n",
       "    </tr>\n",
       "    <tr>\n",
       "      <th>...</th>\n",
       "      <td>...</td>\n",
       "      <td>...</td>\n",
       "      <td>...</td>\n",
       "      <td>...</td>\n",
       "      <td>...</td>\n",
       "    </tr>\n",
       "    <tr>\n",
       "      <th>573560</th>\n",
       "      <td>maf-S</td>\n",
       "      <td>chrX:9615301-9616575</td>\n",
       "      <td>48</td>\n",
       "      <td>0.800000</td>\n",
       "      <td>35.0</td>\n",
       "    </tr>\n",
       "    <tr>\n",
       "      <th>573562</th>\n",
       "      <td>cnc</td>\n",
       "      <td>chrX:9615301-9616575</td>\n",
       "      <td>48</td>\n",
       "      <td>0.885714</td>\n",
       "      <td>35.0</td>\n",
       "    </tr>\n",
       "    <tr>\n",
       "      <th>573565</th>\n",
       "      <td>Jra</td>\n",
       "      <td>chrX:9615301-9616575</td>\n",
       "      <td>48</td>\n",
       "      <td>0.914286</td>\n",
       "      <td>35.0</td>\n",
       "    </tr>\n",
       "    <tr>\n",
       "      <th>573570</th>\n",
       "      <td>pan</td>\n",
       "      <td>chrX:9615301-9616575</td>\n",
       "      <td>48</td>\n",
       "      <td>0.828571</td>\n",
       "      <td>35.0</td>\n",
       "    </tr>\n",
       "    <tr>\n",
       "      <th>573573</th>\n",
       "      <td>E2f1</td>\n",
       "      <td>chrX:9615301-9616575</td>\n",
       "      <td>48</td>\n",
       "      <td>0.828571</td>\n",
       "      <td>35.0</td>\n",
       "    </tr>\n",
       "  </tbody>\n",
       "</table>\n",
       "<p>42874 rows × 5 columns</p>\n",
       "</div>"
      ],
      "text/plain": [
       "             TF                   region topic  fraction_tf  n_cells\n",
       "6           hth  chr2L:13084310-13086017    14     1.000000     62.0\n",
       "10          exd  chr2L:13084310-13086017    14     0.935484     62.0\n",
       "251         jim    chr2L:7423403-7426242    27     0.944444     36.0\n",
       "315     RpII215    chr2L:7423403-7426242    27     0.777778     36.0\n",
       "334          gl    chr2L:7423403-7426242    12     0.982699    578.0\n",
       "...         ...                      ...   ...          ...      ...\n",
       "573560    maf-S     chrX:9615301-9616575    48     0.800000     35.0\n",
       "573562      cnc     chrX:9615301-9616575    48     0.885714     35.0\n",
       "573565      Jra     chrX:9615301-9616575    48     0.914286     35.0\n",
       "573570      pan     chrX:9615301-9616575    48     0.828571     35.0\n",
       "573573     E2f1     chrX:9615301-9616575    48     0.828571     35.0\n",
       "\n",
       "[42874 rows x 5 columns]"
      ]
     },
     "execution_count": 12,
     "metadata": {},
     "output_type": "execute_result"
    }
   ],
   "source": [
    "# filter data frame\n",
    "df_fil_tfreg = df_tfreg.loc[ ( (df_tfreg.n_cells >= min_cells) & (df_tfreg.fraction_tf >= min_fraction_tf) ), :]\n",
    "df_fil_tfreg"
   ]
  },
  {
   "cell_type": "code",
   "execution_count": 13,
   "metadata": {},
   "outputs": [
    {
     "name": "stdout",
     "output_type": "stream",
     "text": [
      "Output written to: /ddn1/vol1/staging/leuven/stg_00002/lcb/nhecker/scenic2/filtered_TF-region.tsv\n"
     ]
    }
   ],
   "source": [
    "# write output\n",
    "df_fil_tfreg.to_csv(path_outf, sep=\"\\t\")\n",
    "print(\"Output written to: \" + path_outf)"
   ]
  }
 ],
 "metadata": {
  "kernelspec": {
   "display_name": "pycisTopic - r23i27n14",
   "language": "python",
   "name": "rik_ssh_pycistopic_n14"
  },
  "language_info": {
   "codemirror_mode": {
    "name": "ipython",
    "version": 3
   },
   "file_extension": ".py",
   "mimetype": "text/x-python",
   "name": "python",
   "nbconvert_exporter": "python",
   "pygments_lexer": "ipython3",
   "version": "3.7.4"
  }
 },
 "nbformat": 4,
 "nbformat_minor": 4
}
